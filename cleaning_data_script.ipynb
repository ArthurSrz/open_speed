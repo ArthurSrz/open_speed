{
 "cells": [
  {
   "cell_type": "code",
   "execution_count": 99,
   "metadata": {},
   "outputs": [],
   "source": [
    "import pandas as pd\n",
    "import requests\n",
    "import json\n",
    "import time"
   ]
  },
  {
   "cell_type": "code",
   "execution_count": 108,
   "metadata": {},
   "outputs": [],
   "source": [
    "import pandas as pd\n",
    "\n",
    "# Function to clean and convert SIREN values\n",
    "def clean_and_convert_siren(value):\n",
    "    cleaned_value = str(value).replace('\\u200e', '')  # Remove special characters\n",
    "    if cleaned_value.isdigit():\n",
    "        return int(cleaned_value)\n",
    "    else:\n",
    "        return 0  # Return 0 for non-numeric or empty values\n",
    "\n",
    "\n",
    "# Import CSV files into dataframes\n",
    "df_2017 = pd.read_csv('2017.csv')\n",
    "df_2018 = pd.read_csv('2018.csv')\n",
    "df_2020 = pd.read_csv('2020.csv')\n",
    "df_2022 = pd.read_csv('2022.csv')\n",
    "\n",
    "#add an empty int column in df_2017 called \"SIREN\"\n",
    "df_2017['SIREN'] = 0\n",
    "df_2017['SIREN'] = df_2017['SIREN'].astype(int)\n",
    "\n",
    "# Add 'year' column\n",
    "df_2017['year'] = 2017\n",
    "df_2018['year'] = 2018\n",
    "df_2020['year'] = 2020\n",
    "df_2022['year'] = 2022\n",
    "\n",
    "# Add 'nb-total' column and set empty cells to 0\n",
    "df_2017['nb-total'] = 1\n",
    "df_2017['nb-total'].fillna(0, inplace=True)\n",
    "df_2017['nb-total'] = df_2017['nb-total'].astype(int)\n",
    "\n",
    "# Clean and convert 'SIREN' column\n",
    "df_2017['SIREN'] = df_2017['SIREN'].apply(clean_and_convert_siren)\n",
    "\n",
    "# In df_2018, set empty cells in columns 5, 6, 7, 8 to 0\n",
    "df_2018.iloc[:, 4:8] = df_2018.iloc[:, 4:8].fillna(0)\n",
    "\n",
    "# Clean and convert columns 5, 6, 7, 8 to integers\n",
    "df_2018.iloc[:, 4:8] = df_2018.iloc[:, 4:8].astype(int)\n",
    "\n",
    "# Create 'nb-total' column in df_2018 equal to the sum of columns 5, 6, 7, 8\n",
    "df_2018['nb-total'] = df_2018.iloc[:, 4:8].sum(axis=1)\n",
    "\n",
    "# Clean and convert 'SIREN' column\n",
    "df_2018['SIREN'] = df_2018['SIREN'].apply(clean_and_convert_siren)\n",
    "\n",
    "# In df_2020, set empty cells in columns 4, 5 to 0 and clean 'SIREN' column\n",
    "df_2020.iloc[:, 3:5] = df_2020.iloc[:, 3:5].fillna(0)\n",
    "df_2020['SIREN'] = df_2020['SIREN'].apply(clean_and_convert_siren)\n",
    "\n",
    "#create a new column in df_2020 called \"nb-total\" equal to the sum of columns 4 and 5\n",
    "df_2020['nb-total'] = df_2020.iloc[:, 3:5].sum(axis=1)\n",
    "\n",
    "# In df_2022, set empty cells in columns 3, 4 to 0 and clean 'SIREN' column\n",
    "df_2022.iloc[:, 3:5] = df_2022.iloc[:, 3:5].fillna(0)\n",
    "df_2022['SIREN'] = df_2022['SIREN'].apply(clean_and_convert_siren)\n",
    "\n",
    "#in df_2022, create a new column called \"nb-total\" equal to the sum of columns 4 and 5\n",
    "df_2022['nb-total'] = df_2022.iloc[:, 3:5].sum(axis=1)\n",
    "\n",
    "# Save cleaned dataframes to CSV files\n",
    "df_2017.to_csv('2017_clean.csv', index=False)\n",
    "df_2018.to_csv('2018_clean.csv', index=False)\n",
    "df_2020.to_csv('2020_clean.csv', index=False)\n",
    "df_2022.to_csv('2022_clean.csv', index=False)\n"
   ]
  },
  {
   "cell_type": "code",
   "execution_count": 125,
   "metadata": {},
   "outputs": [
    {
     "ename": "MergeError",
     "evalue": "Passing 'suffixes' which cause duplicate columns {'ORGA_NOM_x', 'year_x'} is not allowed.",
     "output_type": "error",
     "traceback": [
      "\u001b[0;31m---------------------------------------------------------------------------\u001b[0m",
      "\u001b[0;31mMergeError\u001b[0m                                Traceback (most recent call last)",
      "\u001b[1;32m/Users/arthursarazin/Desktop/opendata/cleaning.ipynb Cell 3\u001b[0m line \u001b[0;36m1\n\u001b[1;32m      <a href='vscode-notebook-cell:/Users/arthursarazin/Desktop/opendata/cleaning.ipynb#W4sZmlsZQ%3D%3D?line=7'>8</a>\u001b[0m df_merged \u001b[39m=\u001b[39m pd\u001b[39m.\u001b[39mmerge(df_2017_clean, df_2018_clean, on\u001b[39m=\u001b[39m\u001b[39m'\u001b[39m\u001b[39mSIREN\u001b[39m\u001b[39m'\u001b[39m, how\u001b[39m=\u001b[39m\u001b[39m'\u001b[39m\u001b[39mouter\u001b[39m\u001b[39m'\u001b[39m)\n\u001b[1;32m      <a href='vscode-notebook-cell:/Users/arthursarazin/Desktop/opendata/cleaning.ipynb#W4sZmlsZQ%3D%3D?line=8'>9</a>\u001b[0m df_merged \u001b[39m=\u001b[39m pd\u001b[39m.\u001b[39mmerge(df_merged, df_2020_clean, on\u001b[39m=\u001b[39m\u001b[39m'\u001b[39m\u001b[39mSIREN\u001b[39m\u001b[39m'\u001b[39m, how\u001b[39m=\u001b[39m\u001b[39m'\u001b[39m\u001b[39mouter\u001b[39m\u001b[39m'\u001b[39m)\n\u001b[0;32m---> <a href='vscode-notebook-cell:/Users/arthursarazin/Desktop/opendata/cleaning.ipynb#W4sZmlsZQ%3D%3D?line=9'>10</a>\u001b[0m df_merged \u001b[39m=\u001b[39m pd\u001b[39m.\u001b[39;49mmerge(df_merged, df_2022_clean, on\u001b[39m=\u001b[39;49m\u001b[39m'\u001b[39;49m\u001b[39mSIREN\u001b[39;49m\u001b[39m'\u001b[39;49m, how\u001b[39m=\u001b[39;49m\u001b[39m'\u001b[39;49m\u001b[39mouter\u001b[39;49m\u001b[39m'\u001b[39;49m)\n",
      "File \u001b[0;32m~/.pyenv/versions/3.11.5/lib/python3.11/site-packages/pandas/core/reshape/merge.py:183\u001b[0m, in \u001b[0;36mmerge\u001b[0;34m(left, right, how, on, left_on, right_on, left_index, right_index, sort, suffixes, copy, indicator, validate)\u001b[0m\n\u001b[1;32m    168\u001b[0m \u001b[39melse\u001b[39;00m:\n\u001b[1;32m    169\u001b[0m     op \u001b[39m=\u001b[39m _MergeOperation(\n\u001b[1;32m    170\u001b[0m         left_df,\n\u001b[1;32m    171\u001b[0m         right_df,\n\u001b[0;32m   (...)\u001b[0m\n\u001b[1;32m    181\u001b[0m         validate\u001b[39m=\u001b[39mvalidate,\n\u001b[1;32m    182\u001b[0m     )\n\u001b[0;32m--> 183\u001b[0m     \u001b[39mreturn\u001b[39;00m op\u001b[39m.\u001b[39;49mget_result(copy\u001b[39m=\u001b[39;49mcopy)\n",
      "File \u001b[0;32m~/.pyenv/versions/3.11.5/lib/python3.11/site-packages/pandas/core/reshape/merge.py:885\u001b[0m, in \u001b[0;36m_MergeOperation.get_result\u001b[0;34m(self, copy)\u001b[0m\n\u001b[1;32m    881\u001b[0m     \u001b[39mself\u001b[39m\u001b[39m.\u001b[39mleft, \u001b[39mself\u001b[39m\u001b[39m.\u001b[39mright \u001b[39m=\u001b[39m \u001b[39mself\u001b[39m\u001b[39m.\u001b[39m_indicator_pre_merge(\u001b[39mself\u001b[39m\u001b[39m.\u001b[39mleft, \u001b[39mself\u001b[39m\u001b[39m.\u001b[39mright)\n\u001b[1;32m    883\u001b[0m join_index, left_indexer, right_indexer \u001b[39m=\u001b[39m \u001b[39mself\u001b[39m\u001b[39m.\u001b[39m_get_join_info()\n\u001b[0;32m--> 885\u001b[0m result \u001b[39m=\u001b[39m \u001b[39mself\u001b[39;49m\u001b[39m.\u001b[39;49m_reindex_and_concat(\n\u001b[1;32m    886\u001b[0m     join_index, left_indexer, right_indexer, copy\u001b[39m=\u001b[39;49mcopy\n\u001b[1;32m    887\u001b[0m )\n\u001b[1;32m    888\u001b[0m result \u001b[39m=\u001b[39m result\u001b[39m.\u001b[39m__finalize__(\u001b[39mself\u001b[39m, method\u001b[39m=\u001b[39m\u001b[39mself\u001b[39m\u001b[39m.\u001b[39m_merge_type)\n\u001b[1;32m    890\u001b[0m \u001b[39mif\u001b[39;00m \u001b[39mself\u001b[39m\u001b[39m.\u001b[39mindicator:\n",
      "File \u001b[0;32m~/.pyenv/versions/3.11.5/lib/python3.11/site-packages/pandas/core/reshape/merge.py:837\u001b[0m, in \u001b[0;36m_MergeOperation._reindex_and_concat\u001b[0;34m(self, join_index, left_indexer, right_indexer, copy)\u001b[0m\n\u001b[1;32m    834\u001b[0m left \u001b[39m=\u001b[39m \u001b[39mself\u001b[39m\u001b[39m.\u001b[39mleft[:]\n\u001b[1;32m    835\u001b[0m right \u001b[39m=\u001b[39m \u001b[39mself\u001b[39m\u001b[39m.\u001b[39mright[:]\n\u001b[0;32m--> 837\u001b[0m llabels, rlabels \u001b[39m=\u001b[39m _items_overlap_with_suffix(\n\u001b[1;32m    838\u001b[0m     \u001b[39mself\u001b[39;49m\u001b[39m.\u001b[39;49mleft\u001b[39m.\u001b[39;49m_info_axis, \u001b[39mself\u001b[39;49m\u001b[39m.\u001b[39;49mright\u001b[39m.\u001b[39;49m_info_axis, \u001b[39mself\u001b[39;49m\u001b[39m.\u001b[39;49msuffixes\n\u001b[1;32m    839\u001b[0m )\n\u001b[1;32m    841\u001b[0m \u001b[39mif\u001b[39;00m left_indexer \u001b[39mis\u001b[39;00m \u001b[39mnot\u001b[39;00m \u001b[39mNone\u001b[39;00m \u001b[39mand\u001b[39;00m \u001b[39mnot\u001b[39;00m is_range_indexer(left_indexer, \u001b[39mlen\u001b[39m(left)):\n\u001b[1;32m    842\u001b[0m     \u001b[39m# Pinning the index here (and in the right code just below) is not\u001b[39;00m\n\u001b[1;32m    843\u001b[0m     \u001b[39m#  necessary, but makes the `.take` more performant if we have e.g.\u001b[39;00m\n\u001b[1;32m    844\u001b[0m     \u001b[39m#  a MultiIndex for left.index.\u001b[39;00m\n\u001b[1;32m    845\u001b[0m     lmgr \u001b[39m=\u001b[39m left\u001b[39m.\u001b[39m_mgr\u001b[39m.\u001b[39mreindex_indexer(\n\u001b[1;32m    846\u001b[0m         join_index,\n\u001b[1;32m    847\u001b[0m         left_indexer,\n\u001b[0;32m   (...)\u001b[0m\n\u001b[1;32m    852\u001b[0m         use_na_proxy\u001b[39m=\u001b[39m\u001b[39mTrue\u001b[39;00m,\n\u001b[1;32m    853\u001b[0m     )\n",
      "File \u001b[0;32m~/.pyenv/versions/3.11.5/lib/python3.11/site-packages/pandas/core/reshape/merge.py:2686\u001b[0m, in \u001b[0;36m_items_overlap_with_suffix\u001b[0;34m(left, right, suffixes)\u001b[0m\n\u001b[1;32m   2684\u001b[0m     dups\u001b[39m.\u001b[39mextend(rlabels[(rlabels\u001b[39m.\u001b[39mduplicated()) \u001b[39m&\u001b[39m (\u001b[39m~\u001b[39mright\u001b[39m.\u001b[39mduplicated())]\u001b[39m.\u001b[39mtolist())\n\u001b[1;32m   2685\u001b[0m \u001b[39mif\u001b[39;00m dups:\n\u001b[0;32m-> 2686\u001b[0m     \u001b[39mraise\u001b[39;00m MergeError(\n\u001b[1;32m   2687\u001b[0m         \u001b[39mf\u001b[39m\u001b[39m\"\u001b[39m\u001b[39mPassing \u001b[39m\u001b[39m'\u001b[39m\u001b[39msuffixes\u001b[39m\u001b[39m'\u001b[39m\u001b[39m which cause duplicate columns \u001b[39m\u001b[39m{\u001b[39;00m\u001b[39mset\u001b[39m(dups)\u001b[39m}\u001b[39;00m\u001b[39m is \u001b[39m\u001b[39m\"\u001b[39m\n\u001b[1;32m   2688\u001b[0m         \u001b[39mf\u001b[39m\u001b[39m\"\u001b[39m\u001b[39mnot allowed.\u001b[39m\u001b[39m\"\u001b[39m,\n\u001b[1;32m   2689\u001b[0m     )\n\u001b[1;32m   2691\u001b[0m \u001b[39mreturn\u001b[39;00m llabels, rlabels\n",
      "\u001b[0;31mMergeError\u001b[0m: Passing 'suffixes' which cause duplicate columns {'ORGA_NOM_x', 'year_x'} is not allowed."
     ]
    }
   ],
   "source": [
    "#import as dfs the csv file \"2017_clean.csv\"\n",
    "df_2017_clean = pd.read_csv('2017_clean.csv')\n",
    "df_2018_clean = pd.read_csv('2018_clean.csv')\n",
    "df_2020_clean = pd.read_csv('2020_clean.csv')\n",
    "df_2022_clean = pd.read_csv('2022_clean.csv')\n",
    "\n",
    "# Merge with suffixes\n",
    "df_merged = pd.merge(df_2017_clean, df_2018_clean, on='SIREN', how='outer', suffixes=('_2017', '_2018'))\n",
    "df_merged = pd.merge(df_merged, df_2020_clean, on='SIREN', how='outer', suffixes=('_2020', '_2018'))\n",
    "df_merged = pd.merge(df_merged, df_2022_clean, on='SIREN', how='outer', suffixes=('_2022', '_2018'))\n"
   ]
  }
 ],
 "metadata": {
  "kernelspec": {
   "display_name": "Python 3",
   "language": "python",
   "name": "python3"
  },
  "language_info": {
   "codemirror_mode": {
    "name": "ipython",
    "version": 3
   },
   "file_extension": ".py",
   "mimetype": "text/x-python",
   "name": "python",
   "nbconvert_exporter": "python",
   "pygments_lexer": "ipython3",
   "version": "3.11.5"
  },
  "orig_nbformat": 4
 },
 "nbformat": 4,
 "nbformat_minor": 2
}
